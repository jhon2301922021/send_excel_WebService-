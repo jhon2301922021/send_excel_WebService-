{
 "cells": [
  {
   "cell_type": "markdown",
   "metadata": {},
   "source": [
    "# 1. Enviar Excel: Taller 1"
   ]
  },
  {
   "cell_type": "code",
   "execution_count": 1,
   "metadata": {},
   "outputs": [
    {
     "data": {
      "text/plain": [
       "200"
      ]
     },
     "execution_count": 1,
     "metadata": {},
     "output_type": "execute_result"
    }
   ],
   "source": [
    "import requests\n",
    "\n",
    "# Definir endpoint\n",
    "#url = 'http://127.0.0.1:8000/upload-excel'\n",
    "url = \"http://localhost:8000/upload-excel\"\n",
    "\n",
    "# Definir path del excel\n",
    "file_path = \"IrisDataset.xlsx\"\n",
    "files = {\"file\": open(file_path, \"rb\")}\n",
    "params = {\"user_name\": \"José Mejía \"}\n",
    "response = requests.post(url=url, params=params, files=files)\n",
    "\n",
    "# Obtener código de status de respuesta\n",
    "response.status_code"
   ]
  },
  {
   "cell_type": "code",
   "execution_count": 2,
   "metadata": {},
   "outputs": [
    {
     "data": {
      "text/plain": [
       "{'message': 'El archivo Excel se ha subido correctamente!'}"
      ]
     },
     "execution_count": 2,
     "metadata": {},
     "output_type": "execute_result"
    }
   ],
   "source": [
    "# Obtener contenido de respuesta\n",
    "response.json()"
   ]
  },
  {
   "cell_type": "markdown",
   "metadata": {},
   "source": [
    "# 2. Enviar Excel: Taller 2"
   ]
  },
  {
   "cell_type": "code",
   "execution_count": 1,
   "metadata": {},
   "outputs": [
    {
     "data": {
      "text/plain": [
       "200"
      ]
     },
     "execution_count": 1,
     "metadata": {},
     "output_type": "execute_result"
    }
   ],
   "source": [
    "import requests\n",
    "\n",
    "# Definir endpoint\n",
    "#url = 'http://127.0.0.1:8000/upload-excel'\n",
    "url = 'http://localhost:8000/upload-excel'\n",
    "\n",
    "# Definir path del excel\n",
    "file_path = \"IrisDataset.xlsx\"\n",
    "files = {\"file\": open(file_path, \"rb\")}\n",
    "response = requests.post(url=url, files=files)\n",
    "\n",
    "# Obtener código de status de respuesta\n",
    "response.status_code"
   ]
  },
  {
   "cell_type": "code",
   "execution_count": 3,
   "metadata": {},
   "outputs": [
    {
     "data": {
      "text/plain": [
       "{'predictions': [0, 0, 1, 1, 2, 2]}"
      ]
     },
     "execution_count": 3,
     "metadata": {},
     "output_type": "execute_result"
    }
   ],
   "source": [
    "# Obtener contenido de respuesta\n",
    "response.json()"
   ]
  },
  {
   "cell_type": "code",
   "execution_count": null,
   "metadata": {},
   "outputs": [],
   "source": []
  }
 ],
 "metadata": {
  "kernelspec": {
   "display_name": "myenv38",
   "language": "python",
   "name": "python3"
  },
  "language_info": {
   "codemirror_mode": {
    "name": "ipython",
    "version": 3
   },
   "file_extension": ".py",
   "mimetype": "text/x-python",
   "name": "python",
   "nbconvert_exporter": "python",
   "pygments_lexer": "ipython3",
   "version": "3.8.12"
  }
 },
 "nbformat": 4,
 "nbformat_minor": 2
}
